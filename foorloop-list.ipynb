{
 "cells": [
  {
   "cell_type": "code",
   "execution_count": 1,
   "id": "a997ff07-10e3-4583-9424-28f4d59d6684",
   "metadata": {},
   "outputs": [],
   "source": [
    "# Creating list catainging 10 indexes inthe a list"
   ]
  },
  {
   "cell_type": "code",
   "execution_count": null,
   "id": "8ae3f30c-bcae-4061-b701-eb4e9960c781",
   "metadata": {},
   "outputs": [],
   "source": [
    "# declaration of all the variables\n",
    "\n",
    "topscoreripl = [\"Yasasvi Jaiswal\",575,True,\"Faf\",576,True,\"SKY\",490.60,False,\"guess....\"]\n",
    "\n",
    "# assing all the variables into one and using foorloop  the temp value of all variables in (i) and print the value and datatype of i\n",
    "\n",
    "for i in topscoreripl :\n",
    "    print(i)\n",
    "    print(type(i))\n",
    "    \n",
    "# then invocation and intialization"
   ]
  }
 ],
 "metadata": {
  "kernelspec": {
   "display_name": "Python 3 (ipykernel)",
   "language": "python",
   "name": "python3"
  },
  "language_info": {
   "codemirror_mode": {
    "name": "ipython",
    "version": 3
   },
   "file_extension": ".py",
   "mimetype": "text/x-python",
   "name": "python",
   "nbconvert_exporter": "python",
   "pygments_lexer": "ipython3",
   "version": "3.10.8"
  }
 },
 "nbformat": 4,
 "nbformat_minor": 5
}
