{
 "cells": [
  {
   "cell_type": "code",
   "execution_count": null,
   "id": "da34ded7-2939-412b-b95c-61d5ab194906",
   "metadata": {},
   "outputs": [],
   "source": [
    "# Creating variables containing data types "
   ]
  },
  {
   "cell_type": "code",
   "execution_count": null,
   "id": "bfd7b67e-04ca-4d0a-87aa-d43f97f5ac3d",
   "metadata": {},
   "outputs": [],
   "source": [
    "# sting data type and example"
   ]
  },
  {
   "cell_type": "code",
   "execution_count": 14,
   "id": "71a1d63f-c7b7-4b8a-8c9f-ed72b1450190",
   "metadata": {},
   "outputs": [
    {
     "name": "stdout",
     "output_type": "stream",
     "text": [
      "Data Science impact (2.0)\n"
     ]
    },
    {
     "data": {
      "text/plain": [
       "str"
      ]
     },
     "execution_count": 14,
     "metadata": {},
     "output_type": "execute_result"
    }
   ],
   "source": [
    "course = \"Data Science impact (2.0)\"\n",
    "print(course) \n",
    "type(course)\n",
    "# creating course type variable assign string value print the value using variable name , alog with its data type"
   ]
  },
  {
   "cell_type": "code",
   "execution_count": 9,
   "id": "cf1c5426-2c12-4f08-bf83-7d4adc44e556",
   "metadata": {},
   "outputs": [
    {
     "name": "stdout",
     "output_type": "stream",
     "text": [
      "['week1', 90, True, 'week2', 85, True, 'week3', 95.69, True]\n"
     ]
    },
    {
     "data": {
      "text/plain": [
       "list"
      ]
     },
     "execution_count": 9,
     "metadata": {},
     "output_type": "execute_result"
    }
   ],
   "source": [
    "get_progress = [\"week1\",90,True,\"week2\",85,True,\"week3\",95.69,True]\n",
    "print(get_progress)\n",
    "print( \" this is data type \" +  type(get_progress))\n",
    "# creating get_progress type variable assign list value print the value using variable name , alog with its data type\n"
   ]
  },
  {
   "cell_type": "code",
   "execution_count": 10,
   "id": "3fd34ab5-e11d-4cc7-9179-0689a0568e6d",
   "metadata": {},
   "outputs": [
    {
     "name": "stdout",
     "output_type": "stream",
     "text": [
      "94.76\n"
     ]
    },
    {
     "data": {
      "text/plain": [
       "float"
      ]
     },
     "execution_count": 10,
     "metadata": {},
     "output_type": "execute_result"
    }
   ],
   "source": [
    "total_marks = 94.76\n",
    "print(total_marks) \n",
    "type(total_marks)\n",
    "# creating get_prgress type variable assign list value print the value using variable name , alog with its data type\n"
   ]
  },
  {
   "cell_type": "code",
   "execution_count": 11,
   "id": "ea187223-f012-4a59-a648-3302d6d0a269",
   "metadata": {},
   "outputs": [
    {
     "name": "stdout",
     "output_type": "stream",
     "text": [
      "(45, 95, 99.32)\n"
     ]
    },
    {
     "data": {
      "text/plain": [
       "tuple"
      ]
     },
     "execution_count": 11,
     "metadata": {},
     "output_type": "execute_result"
    }
   ],
   "source": [
    "batchmate_marks = (45,95,99.32)\n",
    "print(batchmate_marks)\n",
    "type(batchmate_marks)\n",
    "# creating get_prgress type variable assign list value print the value using variable name , alog with its data type"
   ]
  },
  {
   "cell_type": "code",
   "execution_count": null,
   "id": "2f3c9009-7d3e-4998-bbfa-985a430bee9d",
   "metadata": {},
   "outputs": [],
   "source": []
  }
 ],
 "metadata": {
  "kernelspec": {
   "display_name": "Python 3 (ipykernel)",
   "language": "python",
   "name": "python3"
  },
  "language_info": {
   "codemirror_mode": {
    "name": "ipython",
    "version": 3
   },
   "file_extension": ".py",
   "mimetype": "text/x-python",
   "name": "python",
   "nbconvert_exporter": "python",
   "pygments_lexer": "ipython3",
   "version": "3.10.8"
  }
 },
 "nbformat": 4,
 "nbformat_minor": 5
}
