{
 "cells": [
  {
   "cell_type": "code",
   "execution_count": 1,
   "id": "e55f2b11-a661-481b-bdaf-5cf9e4b8c190",
   "metadata": {},
   "outputs": [],
   "source": [
    "# Explanation of all the following oprators"
   ]
  },
  {
   "cell_type": "code",
   "execution_count": 2,
   "id": "9bc4da41-9277-41f0-a3c8-09cf85607c32",
   "metadata": {},
   "outputs": [],
   "source": [
    "# / -- % -- // -- **"
   ]
  },
  {
   "cell_type": "code",
   "execution_count": 3,
   "id": "2fdd9acc-b2eb-42b4-a509-9530a1fe7acb",
   "metadata": {},
   "outputs": [],
   "source": [
    "# first declares two values which you want to perform further opratoin"
   ]
  },
  {
   "cell_type": "code",
   "execution_count": 12,
   "id": "c85521e5-c762-4628-8a46-80dce1d7d53d",
   "metadata": {},
   "outputs": [
    {
     "name": "stdin",
     "output_type": "stream",
     "text": [
      "Enter Your mobiles numbers's last Two digit :  39\n",
      "Enter Your best friend's mobiles numbers last Two digit :  16\n"
     ]
    }
   ],
   "source": [
    "a = int(input(\"Enter Your mobiles numbers's last Two digit : \" ))\n",
    "b = int(input(\"Enter Your best friend's mobiles numbers last Two digit : \" ))"
   ]
  },
  {
   "cell_type": "code",
   "execution_count": 13,
   "id": "7433ae84-917a-483a-9a6a-05992aacaa31",
   "metadata": {},
   "outputs": [
    {
     "name": "stdout",
     "output_type": "stream",
     "text": [
      "2.4375\n"
     ]
    }
   ],
   "source": [
    "# first one we used the divident oprator \n",
    "# Devide operaotr divide the numbers which you want to set to first and second one. \n",
    "# lets store the reslut value in new variable called result\n",
    "\n",
    "result = a/b\n",
    "print(result)"
   ]
  },
  {
   "cell_type": "code",
   "execution_count": 17,
   "id": "59a7475e-1f69-423a-8c7d-15f0a4c030e0",
   "metadata": {},
   "outputs": [
    {
     "name": "stdout",
     "output_type": "stream",
     "text": [
      "7\n"
     ]
    }
   ],
   "source": [
    "# seond one we used the reminder oprator \n",
    "# Reminder oprators (least behind) reminader after devide and \n",
    "# lets store the reslut value in new variable called result\n",
    "\n",
    "result = a%b\n",
    "print(result)"
   ]
  },
  {
   "cell_type": "code",
   "execution_count": 15,
   "id": "a78b91b0-4d38-46e6-86dc-95feb1573fd4",
   "metadata": {},
   "outputs": [
    {
     "name": "stdout",
     "output_type": "stream",
     "text": [
      "2\n"
     ]
    }
   ],
   "source": [
    "# third one we used the floor oprator \n",
    "# This operator will divide the first argument by the second and round the result down to the nearest whole number\n",
    "# lets store the reslut value in new variable called result\n",
    "\n",
    "result = a//b\n",
    "print(result)"
   ]
  },
  {
   "cell_type": "code",
   "execution_count": 16,
   "id": "a1a0ee7b-c8d8-47eb-b581-8ea3afaffbfc",
   "metadata": {},
   "outputs": [
    {
     "name": "stdout",
     "output_type": "stream",
     "text": [
      "28644003124274380508351361\n"
     ]
    }
   ],
   "source": [
    "# forth one we used the power oprator \n",
    "# it's called power oprator set second variables power to the first variable.\n",
    "# lets store the reslut value in new variable called result\n",
    "\n",
    "result = a**b\n",
    "print(result)"
   ]
  },
  {
   "cell_type": "code",
   "execution_count": null,
   "id": "11541ee8-ff7d-4b03-9c15-f105cbbdfb18",
   "metadata": {},
   "outputs": [],
   "source": []
  }
 ],
 "metadata": {
  "kernelspec": {
   "display_name": "Python 3 (ipykernel)",
   "language": "python",
   "name": "python3"
  },
  "language_info": {
   "codemirror_mode": {
    "name": "ipython",
    "version": 3
   },
   "file_extension": ".py",
   "mimetype": "text/x-python",
   "name": "python",
   "nbconvert_exporter": "python",
   "pygments_lexer": "ipython3",
   "version": "3.10.8"
  }
 },
 "nbformat": 4,
 "nbformat_minor": 5
}
