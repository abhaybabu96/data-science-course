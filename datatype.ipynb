{
 "cells": [
  {
   "cell_type": "code",
   "execution_count": 1,
   "id": "949638a6-8d88-4f8f-bef9-490c6704c4ad",
   "metadata": {},
   "outputs": [],
   "source": [
    "# Two methods i used to find the data type of variables "
   ]
  },
  {
   "cell_type": "code",
   "execution_count": 1,
   "id": "dd7cd526-6891-4761-8093-61469dd099fd",
   "metadata": {},
   "outputs": [],
   "source": [
    "# 1. to find out simple way one at each time"
   ]
  },
  {
   "cell_type": "code",
   "execution_count": 3,
   "id": "f76576a7-4cc9-4058-a490-15fc8e53583c",
   "metadata": {},
   "outputs": [
    {
     "data": {
      "text/plain": [
       "str"
      ]
     },
     "execution_count": 3,
     "metadata": {},
     "output_type": "execute_result"
    }
   ],
   "source": [
    "var1 = ''\n",
    "type(var1)"
   ]
  },
  {
   "cell_type": "code",
   "execution_count": 4,
   "id": "46cd33df-b3e1-4987-b898-0193f7681c8e",
   "metadata": {},
   "outputs": [
    {
     "data": {
      "text/plain": [
       "str"
      ]
     },
     "execution_count": 4,
     "metadata": {},
     "output_type": "execute_result"
    }
   ],
   "source": [
    "var2 = '[ DS , ML , Python]'\n",
    "type(var2)"
   ]
  },
  {
   "cell_type": "code",
   "execution_count": 5,
   "id": "a7ec8e9a-0273-4156-a78c-d03cbfd31cf8",
   "metadata": {},
   "outputs": [
    {
     "data": {
      "text/plain": [
       "list"
      ]
     },
     "execution_count": 5,
     "metadata": {},
     "output_type": "execute_result"
    }
   ],
   "source": [
    "var3 = ['DS' , 'ML' , 'Python']\n",
    "type(var3)"
   ]
  },
  {
   "cell_type": "code",
   "execution_count": 6,
   "id": "3f3a1417-e8b5-4960-bb05-900867a702cf",
   "metadata": {},
   "outputs": [
    {
     "data": {
      "text/plain": [
       "float"
      ]
     },
     "execution_count": 6,
     "metadata": {},
     "output_type": "execute_result"
    }
   ],
   "source": [
    "var4 = 1.\n",
    "type(var4)"
   ]
  },
  {
   "cell_type": "code",
   "execution_count": 7,
   "id": "35da5891-5d09-43ab-bae0-84bf3be481bb",
   "metadata": {},
   "outputs": [],
   "source": [
    "# 2. Store all variables in a specific variable and with the help of for loop find out the type of all variables."
   ]
  },
  {
   "cell_type": "code",
   "execution_count": 22,
   "id": "b53f06c6-c3e4-44d8-a924-3f0f1034b6d6",
   "metadata": {},
   "outputs": [
    {
     "name": "stdout",
     "output_type": "stream",
     "text": [
      "\n",
      "<class 'str'>\n",
      "[ DS , ML , Python]\n",
      "<class 'str'>\n",
      "['DS', 'ML', 'Python']\n",
      "<class 'list'>\n",
      "1.0\n",
      "<class 'float'>\n"
     ]
    }
   ],
   "source": [
    "# declaration of all the variables\n",
    "\n",
    "var1 = ''\n",
    "var2 = '[ DS , ML , Python]'\n",
    "var3 = ['DS' , 'ML' , 'Python']\n",
    "var4 = 1.\n",
    "\n",
    "# assing all the variables into one and using foorloop stire the temp value of all variables in (i) and print the value and datatype of i\n",
    "\n",
    "all_variables = [var1,var2,var3,var4]\n",
    "for i in all_variables :\n",
    "    print(i)\n",
    "    print(type(i))"
   ]
  },
  {
   "cell_type": "code",
   "execution_count": null,
   "id": "64c540f2-5ff3-4b78-a089-279e61667f99",
   "metadata": {},
   "outputs": [],
   "source": []
  }
 ],
 "metadata": {
  "kernelspec": {
   "display_name": "Python 3 (ipykernel)",
   "language": "python",
   "name": "python3"
  },
  "language_info": {
   "codemirror_mode": {
    "name": "ipython",
    "version": 3
   },
   "file_extension": ".py",
   "mimetype": "text/x-python",
   "name": "python",
   "nbconvert_exporter": "python",
   "pygments_lexer": "ipython3",
   "version": "3.10.8"
  }
 },
 "nbformat": 4,
 "nbformat_minor": 5
}
