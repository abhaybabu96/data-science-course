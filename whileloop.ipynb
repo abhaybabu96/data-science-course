{
 "cells": [
  {
   "cell_type": "code",
   "execution_count": 3,
   "id": "4cb83394-eeed-436c-b274-6501bdfdf101",
   "metadata": {},
   "outputs": [
    {
     "name": "stdin",
     "output_type": "stream",
     "text": [
      "Enter the value of First Integer :  52\n",
      "Enter the value of Second Integer :  3\n"
     ]
    },
    {
     "name": "stdout",
     "output_type": "stream",
     "text": [
      "52 is divisible by 3 and can be divided 3 times.\n"
     ]
    }
   ],
   "source": [
    "# lets create two varies who carries the value of two integer\n",
    "\n",
    "x = int(input(\"Enter the value of First Integer : \"))\n",
    "y = int(input(\"Enter the value of Second Integer : \"))\n",
    "# let create count variable which count the numbers how many times no is divisible. \n",
    "count = 0\n",
    "# check the condition while remider is not equal to zero\n",
    "while x%y == 0 :\n",
    "# And after divide the x , again store value in x again to count how many times no. will be \n",
    "    x = x/y\n",
    "# if no is divisble then  increase the no. of count.\n",
    "    count = count+1\n",
    "# then check the condition and display the value of what is the remainder and how many times it will be divisible.   \n",
    "if count > 0 :\n",
    "    print(f\"{x} is divisible by {y} and can be divided {count} times.\")\n",
    "else :\n",
    "    print(f\"{x} is not divisible by {y}\")"
   ]
  },
  {
   "cell_type": "code",
   "execution_count": null,
   "id": "c1748bea-954a-41a4-a6e2-fc2e28d015d4",
   "metadata": {},
   "outputs": [],
   "source": []
  }
 ],
 "metadata": {
  "kernelspec": {
   "display_name": "Python 3 (ipykernel)",
   "language": "python",
   "name": "python3"
  },
  "language_info": {
   "codemirror_mode": {
    "name": "ipython",
    "version": 3
   },
   "file_extension": ".py",
   "mimetype": "text/x-python",
   "name": "python",
   "nbconvert_exporter": "python",
   "pygments_lexer": "ipython3",
   "version": "3.10.8"
  }
 },
 "nbformat": 4,
 "nbformat_minor": 5
}
