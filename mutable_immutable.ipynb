{
 "cells": [
  {
   "cell_type": "code",
   "execution_count": 1,
   "id": "851a46ee-bcea-4fd0-9508-04609d601463",
   "metadata": {},
   "outputs": [],
   "source": [
    "# What do you understand about mutable and immutable data types? Give examples for both showing this property."
   ]
  },
  {
   "cell_type": "code",
   "execution_count": 1,
   "id": "75289df8-bf84-4cc0-a263-72e2c6be19a2",
   "metadata": {},
   "outputs": [],
   "source": [
    "# Create list first and gave them values."
   ]
  },
  {
   "cell_type": "code",
   "execution_count": 2,
   "id": "a3e0b389-652d-48b3-b12b-4bfe6acfc4da",
   "metadata": {},
   "outputs": [
    {
     "name": "stdout",
     "output_type": "stream",
     "text": [
      "5\n",
      "['Krish', 'Sudhanshu Kumar', 'Dr. Ayan Debnath', 'Subhodeep Dey', 'Rishab Malhotra']\n"
     ]
    }
   ],
   "source": [
    "data_science_teachers = [\"Krish\",\"Sudhanshu Kumar\",\"Dr. Ayan Debnath\",\"Subhodeep Dey\",\"Rishab Malhotra\"]\n",
    "# No. of data science teachers\n",
    "print(len(data_science_teachers))\n",
    "# print the name of teachers\n",
    "print(data_science_teachers)"
   ]
  },
  {
   "cell_type": "code",
   "execution_count": 3,
   "id": "48a49dcf-a992-47b5-a271-3d9e81954cd2",
   "metadata": {},
   "outputs": [],
   "source": [
    "# chnnge sudhanshu kumar into new teacher (take it easy tester) \n",
    "# we try to replace the value from list"
   ]
  },
  {
   "cell_type": "code",
   "execution_count": 4,
   "id": "c812dcaf-7151-425b-a7dc-74b2afe339e2",
   "metadata": {},
   "outputs": [],
   "source": [
    "data_science_teachers[1] = \"New Teacher\" # who is test my all codes"
   ]
  },
  {
   "cell_type": "code",
   "execution_count": 6,
   "id": "670d4841-b4b3-4b6b-9576-f7e5df86d275",
   "metadata": {},
   "outputs": [
    {
     "name": "stdout",
     "output_type": "stream",
     "text": [
      "['Krish', 'New Teacher', 'Dr. Ayan Debnath', 'Subhodeep Dey', 'Rishab Malhotra']\n"
     ]
    }
   ],
   "source": [
    "print(data_science_teachers)"
   ]
  },
  {
   "cell_type": "code",
   "execution_count": 7,
   "id": "bac47d8e-e347-4c82-88a5-c9d1a899ace7",
   "metadata": {},
   "outputs": [],
   "source": [
    "# replacing the value from the list (index from the list) it can happen it's called mutable data ! That can be changed it called "
   ]
  },
  {
   "cell_type": "code",
   "execution_count": 8,
   "id": "cf9286d2-cb36-4359-98fa-0114d645e481",
   "metadata": {},
   "outputs": [],
   "source": [
    "# let's try a new data we try change the index in string "
   ]
  },
  {
   "cell_type": "code",
   "execution_count": 9,
   "id": "c9d726d0-3f22-4722-869f-ec28edce3766",
   "metadata": {},
   "outputs": [
    {
     "name": "stdout",
     "output_type": "stream",
     "text": [
      "New Teacher\n"
     ]
    }
   ],
   "source": [
    "new = \"New Teacher\"\n",
    "print(new)"
   ]
  },
  {
   "cell_type": "code",
   "execution_count": 10,
   "id": "554c25fb-7dbf-4305-bac6-b954eb95d326",
   "metadata": {},
   "outputs": [
    {
     "data": {
      "text/plain": [
       "'w'"
      ]
     },
     "execution_count": 10,
     "metadata": {},
     "output_type": "execute_result"
    }
   ],
   "source": [
    "# let find the index and try to replace it in new teacher string.\n",
    "new[2]"
   ]
  },
  {
   "cell_type": "code",
   "execution_count": 11,
   "id": "040853cf-a6d7-4765-b121-d6c5d10726e2",
   "metadata": {},
   "outputs": [
    {
     "ename": "TypeError",
     "evalue": "'str' object does not support item assignment",
     "output_type": "error",
     "traceback": [
      "\u001b[0;31m---------------------------------------------------------------------------\u001b[0m",
      "\u001b[0;31mTypeError\u001b[0m                                 Traceback (most recent call last)",
      "Cell \u001b[0;32mIn[11], line 1\u001b[0m\n\u001b[0;32m----> 1\u001b[0m \u001b[43mnew\u001b[49m\u001b[43m[\u001b[49m\u001b[38;5;241;43m2\u001b[39;49m\u001b[43m]\u001b[49m \u001b[38;5;241m=\u001b[39m \u001b[38;5;124m'\u001b[39m\u001b[38;5;124m0\u001b[39m\u001b[38;5;124m'\u001b[39m\n\u001b[1;32m      2\u001b[0m new[\u001b[38;5;241m2\u001b[39m]\n",
      "\u001b[0;31mTypeError\u001b[0m: 'str' object does not support item assignment"
     ]
    }
   ],
   "source": [
    "new[2] = '0'\n",
    "new[2]"
   ]
  },
  {
   "cell_type": "code",
   "execution_count": 12,
   "id": "ba0afaa0-6cc2-4957-964d-175348590f4e",
   "metadata": {},
   "outputs": [],
   "source": [
    "# Here we find immutable data type : 'str' object does not support item assignment\n",
    "# immutable data type which is not replaced by their index in string but in list we can replace the itme from index.\n",
    "# At the end anyone can't replace sudhanshu kumar Sir !!!!"
   ]
  }
 ],
 "metadata": {
  "kernelspec": {
   "display_name": "Python 3 (ipykernel)",
   "language": "python",
   "name": "python3"
  },
  "language_info": {
   "codemirror_mode": {
    "name": "ipython",
    "version": 3
   },
   "file_extension": ".py",
   "mimetype": "text/x-python",
   "name": "python",
   "nbconvert_exporter": "python",
   "pygments_lexer": "ipython3",
   "version": "3.10.8"
  }
 },
 "nbformat": 4,
 "nbformat_minor": 5
}
