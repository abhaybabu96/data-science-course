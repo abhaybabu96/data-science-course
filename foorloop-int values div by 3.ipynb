{
 "cells": [
  {
   "cell_type": "code",
   "execution_count": 1,
   "id": "fbd35bfe-4e67-4459-9fa3-c7c14d584505",
   "metadata": {},
   "outputs": [],
   "source": [
    "# Create a list containing 25 int type data. Using for loop and if-else condition print if the element is \n",
    "# divisible by 3 or not"
   ]
  },
  {
   "cell_type": "code",
   "execution_count": 10,
   "id": "1ad03551-47ff-481a-842c-94824fa33258",
   "metadata": {},
   "outputs": [
    {
     "name": "stdout",
     "output_type": "stream",
     "text": [
      "25\n",
      "54 Value is divislbe by 3\n",
      "69 Value is divislbe by 3\n",
      "35  Value is not divisible by 3\n",
      "21 Value is divislbe by 3\n",
      "12 Value is divislbe by 3\n",
      "45 Value is divislbe by 3\n",
      "75 Value is divislbe by 3\n",
      "25  Value is not divisible by 3\n",
      "56  Value is not divisible by 3\n",
      "85  Value is not divisible by 3\n",
      "74  Value is not divisible by 3\n",
      "52  Value is not divisible by 3\n",
      "25  Value is not divisible by 3\n",
      "85  Value is not divisible by 3\n",
      "63 Value is divislbe by 3\n",
      "14  Value is not divisible by 3\n",
      "25  Value is not divisible by 3\n",
      "85  Value is not divisible by 3\n",
      "75 Value is divislbe by 3\n",
      "98  Value is not divisible by 3\n",
      "65  Value is not divisible by 3\n",
      "45 Value is divislbe by 3\n",
      "63 Value is divislbe by 3\n",
      "54 Value is divislbe by 3\n",
      "45 Value is divislbe by 3\n"
     ]
    }
   ],
   "source": [
    "# entered 25no. int type data in a list \n",
    "values = [54,69,35,21,12,45,75,25,56,85,74,52,25,85,63,14,25,85,75,98,65,45,63,54,45]\n",
    "print(len(values))\n",
    "# Now play under the foorloop\n",
    "for i in values :\n",
    "    if i%3 == 0 :\n",
    "        print (f\"{i} Value is divislbe by 3\")\n",
    "    else :\n",
    "        print(f\"{i}  Value is not divisible by 3\")"
   ]
  },
  {
   "cell_type": "code",
   "execution_count": null,
   "id": "10a7c412-a948-427e-b1be-9bc5c5753921",
   "metadata": {},
   "outputs": [],
   "source": []
  }
 ],
 "metadata": {
  "kernelspec": {
   "display_name": "Python 3 (ipykernel)",
   "language": "python",
   "name": "python3"
  },
  "language_info": {
   "codemirror_mode": {
    "name": "ipython",
    "version": 3
   },
   "file_extension": ".py",
   "mimetype": "text/x-python",
   "name": "python",
   "nbconvert_exporter": "python",
   "pygments_lexer": "ipython3",
   "version": "3.10.8"
  }
 },
 "nbformat": 4,
 "nbformat_minor": 5
}
